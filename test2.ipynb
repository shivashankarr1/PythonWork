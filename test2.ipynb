{
 "cells": [
  {
   "cell_type": "code",
   "execution_count": 1,
   "id": "57f59485-04e3-42a2-8e75-2eeb6fb3b9a9",
   "metadata": {},
   "outputs": [],
   "source": [
    "import numpy as np"
   ]
  },
  {
   "cell_type": "code",
   "execution_count": 2,
   "id": "87c12860-b463-405a-82e4-469cdcd48125",
   "metadata": {},
   "outputs": [
    {
     "data": {
      "text/plain": [
       "[1, 2, 3, 4, 5, 6, 7, 8, 9, 10]"
      ]
     },
     "execution_count": 2,
     "metadata": {},
     "output_type": "execute_result"
    }
   ],
   "source": [
    "list = [x for x in range(1,11)]\n",
    "list"
   ]
  },
  {
   "cell_type": "code",
   "execution_count": 7,
   "id": "b6152763-7a2e-451a-863c-8270daa6a7ca",
   "metadata": {},
   "outputs": [
    {
     "data": {
      "text/plain": [
       "array([[ 1],\n",
       "       [ 2],\n",
       "       [ 3],\n",
       "       [ 4],\n",
       "       [ 5],\n",
       "       [ 6],\n",
       "       [ 7],\n",
       "       [ 8],\n",
       "       [ 9],\n",
       "       [10]])"
      ]
     },
     "execution_count": 7,
     "metadata": {},
     "output_type": "execute_result"
    }
   ],
   "source": [
    "my_array = np.array(list).reshape(10,1)\n",
    "my_array"
   ]
  },
  {
   "cell_type": "code",
   "execution_count": 9,
   "id": "1c3ce970-26cd-40dd-8ba1-1fd02d7a3e20",
   "metadata": {},
   "outputs": [
    {
     "data": {
      "text/plain": [
       "(10, 1)"
      ]
     },
     "execution_count": 9,
     "metadata": {},
     "output_type": "execute_result"
    }
   ],
   "source": [
    "my_array.ndim\n",
    "my_array.shape\n",
    "# my_array.dtype"
   ]
  },
  {
   "cell_type": "code",
   "execution_count": 11,
   "id": "c4523a6d-bdf7-469c-9fdc-6a4e12875194",
   "metadata": {},
   "outputs": [
    {
     "data": {
      "text/plain": [
       "array([[1, 1, 1, 1, 1, 1, 1, 1, 1, 1],\n",
       "       [1, 1, 1, 1, 1, 1, 1, 1, 1, 1],\n",
       "       [1, 1, 1, 1, 1, 1, 1, 1, 1, 1],\n",
       "       [1, 1, 1, 1, 1, 1, 1, 1, 1, 1]])"
      ]
     },
     "execution_count": 11,
     "metadata": {},
     "output_type": "execute_result"
    }
   ],
   "source": [
    "np.ones((4,10), int)"
   ]
  },
  {
   "cell_type": "code",
   "execution_count": 20,
   "id": "c21699f5-0eb5-46e4-b5a4-3763fa6dc3ef",
   "metadata": {},
   "outputs": [
    {
     "data": {
      "text/plain": [
       "array([[0, 0, 0, 0, 0, 0, 0, 0, 0, 0, 0, 0, 0, 0, 0, 0, 0, 0, 0, 0],\n",
       "       [0, 0, 0, 0, 0, 0, 0, 0, 0, 0, 0, 0, 0, 0, 0, 0, 0, 0, 0, 0],\n",
       "       [0, 0, 0, 0, 0, 0, 0, 0, 0, 0, 0, 0, 0, 0, 0, 0, 0, 0, 0, 0],\n",
       "       [0, 0, 0, 0, 0, 0, 0, 0, 0, 0, 0, 0, 0, 0, 0, 0, 0, 0, 0, 0],\n",
       "       [0, 0, 0, 0, 0, 0, 0, 0, 0, 0, 0, 0, 0, 0, 0, 0, 0, 0, 0, 0]])"
      ]
     },
     "execution_count": 20,
     "metadata": {},
     "output_type": "execute_result"
    }
   ],
   "source": [
    "np.zeros((10,10), int).reshape(5,20)"
   ]
  },
  {
   "cell_type": "code",
   "execution_count": 16,
   "id": "053dc367-554a-4aae-9cc1-2bfcbecd5704",
   "metadata": {},
   "outputs": [
    {
     "data": {
      "text/plain": [
       "array([0, 1, 2, 3, 4, 5, 6, 7, 8, 9])"
      ]
     },
     "execution_count": 16,
     "metadata": {},
     "output_type": "execute_result"
    }
   ],
   "source": [
    "np.arange(10)"
   ]
  },
  {
   "cell_type": "code",
   "execution_count": 18,
   "id": "90f01db8-55c5-4e71-ad86-90a76b177a78",
   "metadata": {},
   "outputs": [
    {
     "data": {
      "text/plain": [
       "array([ 0. ,  2.5,  5. ,  7.5, 10. ])"
      ]
     },
     "execution_count": 18,
     "metadata": {},
     "output_type": "execute_result"
    }
   ],
   "source": [
    "np.linspace(0,10,5)"
   ]
  },
  {
   "cell_type": "code",
   "execution_count": 22,
   "id": "1549feb0-1370-4d9f-bd8e-7039ff279642",
   "metadata": {},
   "outputs": [
    {
     "data": {
      "text/plain": [
       "array([[1., 0., 0., 0., 0., 0., 0., 0., 0., 0.],\n",
       "       [0., 1., 0., 0., 0., 0., 0., 0., 0., 0.],\n",
       "       [0., 0., 1., 0., 0., 0., 0., 0., 0., 0.],\n",
       "       [0., 0., 0., 1., 0., 0., 0., 0., 0., 0.],\n",
       "       [0., 0., 0., 0., 1., 0., 0., 0., 0., 0.],\n",
       "       [0., 0., 0., 0., 0., 1., 0., 0., 0., 0.],\n",
       "       [0., 0., 0., 0., 0., 0., 1., 0., 0., 0.],\n",
       "       [0., 0., 0., 0., 0., 0., 0., 1., 0., 0.],\n",
       "       [0., 0., 0., 0., 0., 0., 0., 0., 1., 0.],\n",
       "       [0., 0., 0., 0., 0., 0., 0., 0., 0., 1.]])"
      ]
     },
     "execution_count": 22,
     "metadata": {},
     "output_type": "execute_result"
    }
   ],
   "source": [
    "np.identity(10).T"
   ]
  },
  {
   "cell_type": "code",
   "execution_count": 61,
   "id": "1ed99e32-c056-446d-a8c8-b0ed36ed8780",
   "metadata": {},
   "outputs": [
    {
     "name": "stdout",
     "output_type": "stream",
     "text": [
      "[0.37454012 0.95071431 0.73199394 0.59865848 0.15601864]\n"
     ]
    }
   ],
   "source": [
    "np.random.seed(42)\n",
    "# Generate random numbers\n",
    "random_numbers = np.random.rand(5)\n",
    "print(random_numbers)"
   ]
  },
  {
   "cell_type": "code",
   "execution_count": 82,
   "id": "108d1b62-464b-4649-a641-7d9965c7e058",
   "metadata": {},
   "outputs": [
    {
     "data": {
      "text/plain": [
       "array([0.77395605, 0.43887844, 0.85859792, 0.69736803, 0.09417735])"
      ]
     },
     "execution_count": 82,
     "metadata": {},
     "output_type": "execute_result"
    }
   ],
   "source": [
    "r=np.random.default_rng(42)\n",
    "r.random(5)"
   ]
  },
  {
   "cell_type": "code",
   "execution_count": 84,
   "id": "1bf1d8e2-2069-474a-b502-bf8e9ca024c0",
   "metadata": {},
   "outputs": [
    {
     "data": {
      "text/plain": [
       "array([43.48910247, 50.63920202, 48.41878704, 49.91599421, 45.73478036,\n",
       "       54.39698987, 53.88895968, 50.33015349, 55.63620603, 52.33754671])"
      ]
     },
     "execution_count": 84,
     "metadata": {},
     "output_type": "execute_result"
    }
   ],
   "source": [
    "r.normal(50, 5 ,10)"
   ]
  },
  {
   "cell_type": "code",
   "execution_count": 89,
   "id": "8f5be30b-e114-4314-90d4-9e09373426ed",
   "metadata": {},
   "outputs": [
    {
     "data": {
      "text/plain": [
       "array([[47, 86,  2, 76, 50],\n",
       "       [72, 67, 44, 31, 63],\n",
       "       [15, 59, 10, 65, 63]])"
      ]
     },
     "execution_count": 89,
     "metadata": {},
     "output_type": "execute_result"
    }
   ],
   "source": [
    "r.integers(1,101, size=(3,5))"
   ]
  },
  {
   "cell_type": "code",
   "execution_count": 94,
   "id": "3735d154-6ccd-434a-963a-a3a4a9fdd895",
   "metadata": {},
   "outputs": [
    {
     "data": {
      "text/plain": [
       "array([[ 10,  20],\n",
       "       [ 30,  40],\n",
       "       [ 50,  60],\n",
       "       [ 70,  80],\n",
       "       [ 90, 100]])"
      ]
     },
     "execution_count": 94,
     "metadata": {},
     "output_type": "execute_result"
    }
   ],
   "source": [
    "# my_arr = np.linspace(10,100, 10)\n",
    "# my_arr\n",
    "my_arr = np.arange(10,101, 10).reshape(5,2)\n",
    "my_arr"
   ]
  },
  {
   "cell_type": "code",
   "execution_count": 107,
   "id": "aad10d0f-aa05-49df-920e-dab01a88485b",
   "metadata": {},
   "outputs": [
    {
     "data": {
      "text/plain": [
       "array([[0.24742606, 0.09299006, 0.61176337],\n",
       "       [0.06066207, 0.66103343, 0.75515778],\n",
       "       [0.1108689 , 0.04305584, 0.41441747]])"
      ]
     },
     "execution_count": 107,
     "metadata": {},
     "output_type": "execute_result"
    }
   ],
   "source": [
    "rng = np.random.default_rng(2022)\n",
    "random_arr = rng.random((3,3))\n",
    "random_arr"
   ]
  }
 ],
 "metadata": {
  "kernelspec": {
   "display_name": "Python 3 (ipykernel)",
   "language": "python",
   "name": "python3"
  },
  "language_info": {
   "codemirror_mode": {
    "name": "ipython",
    "version": 3
   },
   "file_extension": ".py",
   "mimetype": "text/x-python",
   "name": "python",
   "nbconvert_exporter": "python",
   "pygments_lexer": "ipython3",
   "version": "3.10.12"
  }
 },
 "nbformat": 4,
 "nbformat_minor": 5
}
