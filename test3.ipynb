{
 "cells": [
  {
   "cell_type": "code",
   "execution_count": 1,
   "id": "65d18d86-0b10-49dd-b31f-a341bf5b31f3",
   "metadata": {},
   "outputs": [],
   "source": [
    "import numpy as np"
   ]
  },
  {
   "cell_type": "code",
   "execution_count": 3,
   "id": "7e494a22-c03e-4abb-b85f-6fc1f5ca1899",
   "metadata": {},
   "outputs": [
    {
     "data": {
      "text/plain": [
       "array([0, 1, 2, 3, 4, 5, 6, 7, 8, 9])"
      ]
     },
     "execution_count": 3,
     "metadata": {},
     "output_type": "execute_result"
    }
   ],
   "source": [
    "integers = np.arange(10)\n",
    "integers"
   ]
  },
  {
   "cell_type": "code",
   "execution_count": 5,
   "id": "8ec16655-110b-4986-8b32-d2b1be59ede4",
   "metadata": {},
   "outputs": [
    {
     "data": {
      "text/plain": [
       "array([[0.24742606, 0.09299006, 0.61176337],\n",
       "       [0.06066207, 0.66103343, 0.75515778],\n",
       "       [0.1108689 , 0.04305584, 0.41441747]])"
      ]
     },
     "execution_count": 5,
     "metadata": {},
     "output_type": "execute_result"
    }
   ],
   "source": [
    "nrg = np.random.default_rng(2022)\n",
    "random_array = nrg.random(9).reshape(3,3)\n",
    "random_array"
   ]
  },
  {
   "cell_type": "code",
   "execution_count": 13,
   "id": "f3f658a6-610d-44a0-b4d2-72137753689b",
   "metadata": {},
   "outputs": [
    {
     "data": {
      "text/plain": [
       "array([[0.24742606, 0.09299006, 0.61176337],\n",
       "       [0.06066207, 0.66103343, 0.75515778]])"
      ]
     },
     "execution_count": 13,
     "metadata": {},
     "output_type": "execute_result"
    }
   ],
   "source": [
    "random_array[0:2,:]"
   ]
  },
  {
   "cell_type": "code",
   "execution_count": 21,
   "id": "9e736863-e1e3-4cf6-abb0-02738aa6006c",
   "metadata": {},
   "outputs": [
    {
     "data": {
      "text/plain": [
       "array([0.24742606, 0.06066207, 0.1108689 ])"
      ]
     },
     "execution_count": 21,
     "metadata": {},
     "output_type": "execute_result"
    }
   ],
   "source": [
    "random_array[:, 0].T"
   ]
  },
  {
   "cell_type": "code",
   "execution_count": 23,
   "id": "88d882fe-66d0-489f-aba0-ce1b28461e45",
   "metadata": {},
   "outputs": [
    {
     "data": {
      "text/plain": [
       "0.04305584439252108"
      ]
     },
     "execution_count": 23,
     "metadata": {},
     "output_type": "execute_result"
    }
   ],
   "source": [
    "random_array[2, 1]"
   ]
  },
  {
   "cell_type": "code",
   "execution_count": 28,
   "id": "e793710c-711a-48c4-8f47-250d28699044",
   "metadata": {},
   "outputs": [
    {
     "data": {
      "text/plain": [
       "array([[   0,    5,  155,    0,  518],\n",
       "       [   0, 1827,  616,  317,  325]])"
      ]
     },
     "execution_count": 28,
     "metadata": {},
     "output_type": "execute_result"
    }
   ],
   "source": [
    "sales = [[0,5,155, 0,518], [0,1827, 616, 317,325]]\n",
    "sales_arr = np.array(sales)\n",
    "sales_arr"
   ]
  },
  {
   "cell_type": "code",
   "execution_count": 30,
   "id": "62bdcd12-8384-4558-95a3-8ac1d2cceb40",
   "metadata": {},
   "outputs": [
    {
     "data": {
      "text/plain": [
       "array([  0,   5, 155,   0, 518])"
      ]
     },
     "execution_count": 30,
     "metadata": {},
     "output_type": "execute_result"
    }
   ],
   "source": [
    "quantity = sales_arr[0,:]\n",
    "quantity"
   ]
  },
  {
   "cell_type": "code",
   "execution_count": 31,
   "id": "2f54a897-e98b-4a70-b34e-8b815ed18e43",
   "metadata": {},
   "outputs": [
    {
     "data": {
      "text/plain": [
       "array([   0, 1827,  616,  317,  325])"
      ]
     },
     "execution_count": 31,
     "metadata": {},
     "output_type": "execute_result"
    }
   ],
   "source": [
    "price = sales_arr[1, :]\n",
    "price"
   ]
  },
  {
   "cell_type": "code",
   "execution_count": 32,
   "id": "ad52af14-b986-4578-bd5f-b83d6426dc47",
   "metadata": {},
   "outputs": [
    {
     "data": {
      "text/plain": [
       "array([     0,   9135,  95480,      0, 168350])"
      ]
     },
     "execution_count": 32,
     "metadata": {},
     "output_type": "execute_result"
    }
   ],
   "source": [
    "quantity * price"
   ]
  },
  {
   "cell_type": "code",
   "execution_count": 35,
   "id": "343871e0-0a7b-42ca-87be-eb87482ae8ee",
   "metadata": {},
   "outputs": [
    {
     "data": {
      "text/plain": [
       "array([2.47426063, 0.92990062, 6.11763373, 0.60662074, 6.61033428,\n",
       "       7.55157778, 1.10868901, 0.43055844, 4.14417474, 9.88629256,\n",
       "       9.6919869 ])"
      ]
     },
     "execution_count": 35,
     "metadata": {},
     "output_type": "execute_result"
    }
   ],
   "source": [
    "rng = np.random.default_rng(2022)\n",
    "p = (rng.random(11) * 10)\n",
    "p"
   ]
  },
  {
   "cell_type": "code",
   "execution_count": 67,
   "id": "0f6ba734-d2f5-4bad-8ffb-70b31f4d6670",
   "metadata": {},
   "outputs": [
    {
     "data": {
      "text/plain": [
       "array([10.99, 93.9 , 27.33, 54.99, 13.55, 11.66])"
      ]
     },
     "execution_count": 67,
     "metadata": {},
     "output_type": "execute_result"
    }
   ],
   "source": [
    "prices = np.array([5.99,88.90, 22.33, 49.99,8.55,6.66])\n",
    "total = prices + 5\n",
    "total"
   ]
  },
  {
   "cell_type": "code",
   "execution_count": 68,
   "id": "58c8d271-5b81-4f35-87c1-b676834ab7cb",
   "metadata": {},
   "outputs": [
    {
     "data": {
      "text/plain": [
       "array([[0.24742606, 0.09299006, 0.61176337],\n",
       "       [0.06066207, 0.66103343, 0.75515778]])"
      ]
     },
     "execution_count": 68,
     "metadata": {},
     "output_type": "execute_result"
    }
   ],
   "source": [
    "random_array[:2,]"
   ]
  },
  {
   "cell_type": "code",
   "execution_count": 69,
   "id": "cb1c5f37-c17a-43a6-bf92-6645f46b8172",
   "metadata": {},
   "outputs": [
    {
     "data": {
      "text/plain": [
       "array([0.75257394, 0.90700994, 0.38823663, 0.93933793, 0.33896657,\n",
       "       0.24484222])"
      ]
     },
     "execution_count": 69,
     "metadata": {},
     "output_type": "execute_result"
    }
   ],
   "source": [
    "discount_pct = random_array[:2,:].reshape(6)\n",
    "pct_owned = 1 - discount_pct\n",
    "pct_owned"
   ]
  },
  {
   "cell_type": "code",
   "execution_count": 70,
   "id": "8d26d165-e0c0-4f54-986a-b238db217e62",
   "metadata": {},
   "outputs": [
    {
     "data": {
      "text/plain": [
       "array([ 8.27078756, 85.16823321, 10.61050701, 51.65419258,  4.59299705,\n",
       "        2.85486031])"
      ]
     },
     "execution_count": 70,
     "metadata": {},
     "output_type": "execute_result"
    }
   ],
   "source": [
    "pct_owned * total"
   ]
  },
  {
   "cell_type": "code",
   "execution_count": 79,
   "id": "756af4b4-9492-4b0f-a086-5e7304bf06a5",
   "metadata": {},
   "outputs": [
    {
     "data": {
      "text/plain": [
       "array([444, 332, 200, 400,   0, 100,   0])"
      ]
     },
     "execution_count": 79,
     "metadata": {},
     "output_type": "execute_result"
    }
   ],
   "source": [
    "sales_arr = np.array([444,332,200,400, 0, 100, 0])\n",
    "sales_arr"
   ]
  },
  {
   "cell_type": "code",
   "execution_count": 80,
   "id": "60119a50-253f-4256-9be3-fee6f1e777a3",
   "metadata": {},
   "outputs": [
    {
     "data": {
      "text/plain": [
       "array([ True,  True,  True,  True, False,  True, False])"
      ]
     },
     "execution_count": 80,
     "metadata": {},
     "output_type": "execute_result"
    }
   ],
   "source": [
    "sales_arr!= 0"
   ]
  },
  {
   "cell_type": "code",
   "execution_count": 81,
   "id": "86cb99bf-3c8d-4dbb-9019-a74fc9c65a18",
   "metadata": {},
   "outputs": [
    {
     "data": {
      "text/plain": [
       "array([444, 332, 200, 400, 100])"
      ]
     },
     "execution_count": 81,
     "metadata": {},
     "output_type": "execute_result"
    }
   ],
   "source": [
    "sales_arr[sales_arr!=0]"
   ]
  }
 ],
 "metadata": {
  "kernelspec": {
   "display_name": "Python 3 (ipykernel)",
   "language": "python",
   "name": "python3"
  },
  "language_info": {
   "codemirror_mode": {
    "name": "ipython",
    "version": 3
   },
   "file_extension": ".py",
   "mimetype": "text/x-python",
   "name": "python",
   "nbconvert_exporter": "python",
   "pygments_lexer": "ipython3",
   "version": "3.10.12"
  }
 },
 "nbformat": 4,
 "nbformat_minor": 5
}
