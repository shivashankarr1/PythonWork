{
 "cells": [
  {
   "cell_type": "code",
   "execution_count": 2,
   "id": "99747161-b72d-4fd6-8ce8-e904ddaf1f99",
   "metadata": {},
   "outputs": [],
   "source": [
    "import numpy as np"
   ]
  },
  {
   "cell_type": "code",
   "execution_count": 2,
   "id": "83ee306b-fd22-4be9-8d47-71e2a1e0a107",
   "metadata": {},
   "outputs": [],
   "source": [
    "arr = ['shiva',1,2,3]"
   ]
  },
  {
   "cell_type": "code",
   "execution_count": 3,
   "id": "6c662963-7871-4811-8784-df8dc8a3dbbb",
   "metadata": {},
   "outputs": [],
   "source": [
    "s = np.array(arr)"
   ]
  },
  {
   "cell_type": "code",
   "execution_count": 4,
   "id": "de5bdd08-8585-4f39-ae83-c954af653999",
   "metadata": {},
   "outputs": [
    {
     "name": "stdout",
     "output_type": "stream",
     "text": [
      "1\n",
      "(4,)\n",
      "<U21\n"
     ]
    }
   ],
   "source": [
    "print(s.ndim) \n",
    "print(s.shape) \n",
    "print(s.dtype)"
   ]
  },
  {
   "cell_type": "code",
   "execution_count": 5,
   "id": "44a6c022-1f74-4b98-a63a-6a10937c97eb",
   "metadata": {},
   "outputs": [],
   "source": [
    "twodim = [[1, 2, 3], [4, 5, 6]]"
   ]
  },
  {
   "cell_type": "code",
   "execution_count": 6,
   "id": "65315c09-c48d-4fc8-a42a-4110978aea30",
   "metadata": {},
   "outputs": [],
   "source": [
    "nparr = np.array(twodim)"
   ]
  },
  {
   "cell_type": "code",
   "execution_count": 7,
   "id": "8779e7d4-28df-43fa-96c7-077aee500298",
   "metadata": {},
   "outputs": [
    {
     "data": {
      "text/plain": [
       "dtype('int64')"
      ]
     },
     "execution_count": 7,
     "metadata": {},
     "output_type": "execute_result"
    }
   ],
   "source": [
    "nparr.dtype"
   ]
  },
  {
   "cell_type": "code",
   "execution_count": 8,
   "id": "2346d948-9213-48d9-a133-69b16b157ef7",
   "metadata": {},
   "outputs": [
    {
     "data": {
      "text/plain": [
       "array([0, 1, 2, 3, 4, 5, 6, 7, 8, 9])"
      ]
     },
     "execution_count": 8,
     "metadata": {},
     "output_type": "execute_result"
    }
   ],
   "source": [
    "np.array(range(10))"
   ]
  },
  {
   "cell_type": "code",
   "execution_count": 3,
   "id": "908529aa-c98e-4842-bbe7-e9f2b9c5d69e",
   "metadata": {},
   "outputs": [
    {
     "data": {
      "text/plain": [
       "array([[ 1,  2,  3,  4,  5,  6,  7,  8,  9, 10],\n",
       "       [ 1,  2,  3,  4,  5,  6,  7,  8,  9, 10]])"
      ]
     },
     "execution_count": 3,
     "metadata": {},
     "output_type": "execute_result"
    }
   ],
   "source": [
    "twod = np.array([range(10), range(10)])\n",
    "twod + 1"
   ]
  },
  {
   "cell_type": "code",
   "execution_count": 4,
   "id": "d2278b9e-34af-47dd-baf2-419fd65783b2",
   "metadata": {},
   "outputs": [
    {
     "data": {
      "text/plain": [
       "20"
      ]
     },
     "execution_count": 4,
     "metadata": {},
     "output_type": "execute_result"
    }
   ],
   "source": [
    "twod.size"
   ]
  },
  {
   "cell_type": "code",
   "execution_count": null,
   "id": "241e3890-2cde-40a4-ac27-5339d127157a",
   "metadata": {},
   "outputs": [],
   "source": []
  },
  {
   "cell_type": "code",
   "execution_count": null,
   "id": "7f0b7421-cca5-4acd-a24c-376574c75b6f",
   "metadata": {},
   "outputs": [],
   "source": []
  }
 ],
 "metadata": {
  "kernelspec": {
   "display_name": "Python 3 (ipykernel)",
   "language": "python",
   "name": "python3"
  },
  "language_info": {
   "codemirror_mode": {
    "name": "ipython",
    "version": 3
   },
   "file_extension": ".py",
   "mimetype": "text/x-python",
   "name": "python",
   "nbconvert_exporter": "python",
   "pygments_lexer": "ipython3",
   "version": "3.10.12"
  }
 },
 "nbformat": 4,
 "nbformat_minor": 5
}
